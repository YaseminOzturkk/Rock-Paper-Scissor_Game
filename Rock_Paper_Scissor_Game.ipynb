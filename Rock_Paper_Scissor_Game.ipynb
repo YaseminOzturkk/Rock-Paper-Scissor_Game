{
  "nbformat": 4,
  "nbformat_minor": 0,
  "metadata": {
    "colab": {
      "provenance": [],
      "authorship_tag": "ABX9TyMSmIk0/PZOFQl3WkYsxjxw",
      "include_colab_link": true
    },
    "kernelspec": {
      "name": "python3",
      "display_name": "Python 3"
    },
    "language_info": {
      "name": "python"
    }
  },
  "cells": [
    {
      "cell_type": "markdown",
      "metadata": {
        "id": "view-in-github",
        "colab_type": "text"
      },
      "source": [
        "<a href=\"https://colab.research.google.com/github/YaseminOzturkk/Rock-Paper-Scissor_Game/blob/main/Rock_Paper_Scissor_Game.ipynb\" target=\"_parent\"><img src=\"https://colab.research.google.com/assets/colab-badge.svg\" alt=\"Open In Colab\"/></a>"
      ]
    },
    {
      "cell_type": "code",
      "execution_count": 1,
      "metadata": {
        "id": "4Ngmy1dItft2"
      },
      "outputs": [],
      "source": [
        "import random"
      ]
    },
    {
      "cell_type": "code",
      "source": [
        "action_list = [\"rock\", \"paper\", \"scissor\"]"
      ],
      "metadata": {
        "id": "O2Y715f1tv42"
      },
      "execution_count": 2,
      "outputs": []
    },
    {
      "cell_type": "code",
      "source": [
        "computer_score = 0\n",
        "yasemin_score = 0"
      ],
      "metadata": {
        "id": "Jojo4QZtuAQm"
      },
      "execution_count": 3,
      "outputs": []
    },
    {
      "cell_type": "code",
      "source": [
        "total_rounds = input(\"How many rounds do you want to play? Please enter a number here:\")\n",
        "round_counter = 0\n",
        "\n",
        "while True:\n",
        "  round_counter += 1\n",
        "  print(\"Round number:\", round_counter)\n",
        "\n",
        "  computer_choice = random.choice(action_list)\n",
        "\n",
        "  yasemin_choice = input(\"Please choose your action:\")\n",
        "\n",
        "  print(\"Computer:\", computer_choice)\n",
        "  print(\"Yasemin:\", yasemin_choice)\n",
        "\n",
        "  if computer_choice == yasemin_choice:\n",
        "    print(\"Tie! Both players chose the same action.\")\n",
        "  elif computer_choice == 'paper':\n",
        "    if yasemin_choice == 'rock':\n",
        "      print(\"Winner is: Computer\")\n",
        "      computer_score += 1\n",
        "    else:\n",
        "      print(\"Winner is: Yasemin\")\n",
        "      yasemin_score += 1\n",
        "\n",
        "  elif computer_choice == 'rock':\n",
        "    if yasemin_choice == 'paper':\n",
        "      print(\"Winner is: Yasemin\")\n",
        "      yasemin_score += 1\n",
        "    else:\n",
        "      print(\"Winner is: Computer\")\n",
        "      computer_score += 1\n",
        "  elif computer_choice == 'scissor':\n",
        "    if yasemin_choice == 'paper':\n",
        "      print(\"Winner is: Computer\")\n",
        "      computer_score += 1\n",
        "    else:\n",
        "      print(\"Winner is: Yasemin\")\n",
        "      yasemin_score += 1\n",
        "\n",
        "  if round_counter == int(total_rounds):\n",
        "    break\n",
        "\n",
        "if computer_score == yasemin_score:\n",
        "  print(\"There is no winner, tie!\", computer_score, \":\", yasemin_score)\n",
        "elif computer_score > yasemin_score:\n",
        "  print(\"Computer won with score\", computer_score, \":\", yasemin_score)\n",
        "elif computer_score < yasemin_score:\n",
        "  print(\"Yasemin won with score\", computer_score, \":\", yasemin_score)\n"
      ],
      "metadata": {
        "colab": {
          "base_uri": "https://localhost:8080/"
        },
        "id": "OFjv0IoNuJ_K",
        "outputId": "37342e78-5a2d-408d-b252-9a113303a936"
      },
      "execution_count": 9,
      "outputs": [
        {
          "output_type": "stream",
          "name": "stdout",
          "text": [
            "How many rounds do you want to play? Please enter a number here:3\n",
            "Round number: 1\n",
            "Please choose your action:paper\n",
            "Computer: paper\n",
            "Yasemin: paper\n",
            "Tie! Both players chose the same action.\n",
            "Round number: 2\n",
            "Please choose your action:rock\n",
            "Computer: scissor\n",
            "Yasemin: rock\n",
            "Winner is: Yasemin\n",
            "Round number: 3\n",
            "Please choose your action:paper\n",
            "Computer: paper\n",
            "Yasemin: paper\n",
            "Tie! Both players chose the same action.\n",
            "Yasemin won with score 0 : 1\n"
          ]
        }
      ]
    },
    {
      "cell_type": "code",
      "source": [],
      "metadata": {
        "id": "3IQ3GtxL-E3z"
      },
      "execution_count": null,
      "outputs": []
    }
  ]
}